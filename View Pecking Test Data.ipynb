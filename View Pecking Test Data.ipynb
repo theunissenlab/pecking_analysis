{
 "cells": [
  {
   "cell_type": "code",
   "execution_count": 1,
   "metadata": {},
   "outputs": [
    {
     "name": "stderr",
     "output_type": "stream",
     "text": [
      "/home/fet/anaconda2/envs/pecking_test/lib/python2.7/site-packages/pandas/computation/__init__.py:19: UserWarning: The installed version of numexpr 2.4.4 is not supported in pandas and will be not be used\n",
      "\n",
      "  UserWarning)\n"
     ]
    }
   ],
   "source": [
    "import datetime\n",
    "import glob\n",
    "import os\n",
    "import re\n",
    "import sys\n",
    "from contextlib import contextmanager\n",
    "\n",
    "import ipywidgets as widgets\n",
    "import matplotlib.pyplot as plt\n",
    "import numpy as np\n",
    "import pandas as pd\n",
    "from IPython.display import display, HTML\n",
    "from ipywidgets import interact, interactive\n",
    "\n",
    "from pecking_analysis.peck_data import (\n",
    "    load_pecking_days,\n",
    "    get_labels_by_combining_columns,\n",
    "    plot_data,\n",
    "    peck_data,\n",
    "    color_by_reward,\n",
    "    get_dates\n",
    ")\n",
    "\n",
    "pd.options.display.float_format = '{:,.4f}'.format\n",
    "\n",
    "@contextmanager\n",
    "def block_print():\n",
    "    sys.stdout = open(os.devnull, 'w')\n",
    "    yield \n",
    "    sys.stdout = sys.__stdout__"
   ]
  },
  {
   "cell_type": "markdown",
   "metadata": {},
   "source": [
    "##  Fill in data directory containing folders for each subject"
   ]
  },
  {
   "cell_type": "code",
   "execution_count": 2,
   "metadata": {
    "collapsed": true
   },
   "outputs": [],
   "source": [
    "DATADIR = \"/home/fet/data/\""
   ]
  },
  {
   "cell_type": "code",
   "execution_count": 3,
   "metadata": {
    "collapsed": true
   },
   "outputs": [],
   "source": [
    "BIRDS = [\n",
    "    os.path.basename(bird)\n",
    "    for bird in sorted(glob.glob(os.path.join(DATADIR, \"*\")), key=os.path.getmtime, reverse=True)\n",
    "    if re.search(r\"^[a-zA-Z]{6}[0-9]{4}[MF]?$\", os.path.basename(bird))]"
   ]
  },
  {
   "cell_type": "code",
   "execution_count": 4,
   "metadata": {},
   "outputs": [
    {
     "data": {
      "text/plain": [
       "['XXXBla0055M',\n",
       " 'XXXBla0081M',\n",
       " 'OraOra4449F',\n",
       " 'BluHpi2765M',\n",
       " 'LblWhi1767M',\n",
       " 'LblWhi1566M']"
      ]
     },
     "execution_count": 4,
     "metadata": {},
     "output_type": "execute_result"
    }
   ],
   "source": [
    "BIRDS"
   ]
  },
  {
   "cell_type": "markdown",
   "metadata": {},
   "source": [
    "## Run this cell"
   ]
  },
  {
   "cell_type": "code",
   "execution_count": 5,
   "metadata": {
    "scrolled": false
   },
   "outputs": [
    {
     "data": {
      "application/vnd.jupyter.widget-view+json": {
       "model_id": "bc88ccc0fd9f48c3b698ce896806b860"
      }
     },
     "metadata": {},
     "output_type": "display_data"
    }
   ],
   "source": [
    "def cached_load(bird, date):\n",
    "    if (bird, date) not in cached_load._cache:\n",
    "        blocks, stim_blocks = load_pecking_days(os.path.join(DATADIR, bird, date.strftime(\"%d%m%y\")))\n",
    "        cached_load._cache[(bird, date)] = (blocks, stim_blocks)\n",
    "    return cached_load._cache[(bird, date)]\n",
    "cached_load._cache = {}\n",
    "\n",
    "\n",
    "def view_pecking_data(date, bird, mode):\n",
    "    if date is None:\n",
    "        return\n",
    "    \n",
    "    valid_dates = get_dates(os.path.join(DATADIR, bird))\n",
    "    valid_dates = list(reversed(valid_dates))\n",
    "    date_picker.options = valid_dates\n",
    "    if date not in valid_dates:\n",
    "        date_picker.value = valid_dates[0]\n",
    "        date = valid_dates[0]\n",
    "\n",
    "    blocks, stim_blocks = cached_load(bird, date)\n",
    "\n",
    "    for block, stims in zip(blocks, stim_blocks):\n",
    "        if block.date == date:\n",
    "            block.data.index = pd.Series(np.arange(len(block.data)))\n",
    "            if mode == \"by stim\":\n",
    "                labels = get_labels_by_combining_columns(\n",
    "                    block,\n",
    "                    [\"Class\", \"Call Type\", \"Bird Name\"],\n",
    "                    lambda x: \"{} {} {}\".format(x[2], x[0], x[1])\n",
    "                )\n",
    "            elif mode == \"by reward\":\n",
    "                labels = get_labels_by_combining_columns(\n",
    "                    block,\n",
    "                    [\"Class\", \"Call Type\"],\n",
    "                    lambda x: \"{} {}\".format(x[0], x[1])\n",
    "                )\n",
    "\n",
    "            fig = plot_data(block, labels, label_order=lambda x: x.split()[1], index_by=\"trial\", label_to_color=color_by_reward)\n",
    "            plt.title(\"{} {}\".format(bird, block.date.strftime(\"%d%m%y\")))\n",
    "\n",
    "            plt.show()\n",
    "            plt.close(fig)\n",
    "\n",
    "\n",
    "def view_stim_data(date, bird):\n",
    "    if date is None:\n",
    "        return\n",
    "\n",
    "    blocks, stim_blocks = cached_load(bird, date)\n",
    "\n",
    "    for block, stims in zip(blocks, stim_blocks):\n",
    "        if block.date == date:\n",
    "            display(HTML(stims[[\"Bird Name\", \"Call Type\", \"Class\", \"Trials\"]].to_html()))\n",
    "            \n",
    "            \n",
    "def view_stats(date, bird):\n",
    "    if date is None:\n",
    "        return\n",
    "\n",
    "    blocks, stim_blocks = cached_load(bird, date)\n",
    "\n",
    "    with block_print():\n",
    "        data = peck_data(blocks)\n",
    "    display(HTML(data.to_html()))\n",
    "\n",
    "\n",
    "# date_picker = widgets.DatePicker(\n",
    "#     description='Pick a Date',\n",
    "#     value=datetime.datetime.now(),\n",
    "#     disabled=False\n",
    "# )\n",
    "date_picker = widgets.Dropdown(\n",
    "    options=[datetime.date.today() - datetime.timedelta(days=x) for x in range(60)],\n",
    "    value=datetime.date.today(),\n",
    "    description=\"Date\",\n",
    "    disabled=False,\n",
    ")\n",
    "\n",
    "bird_picker = widgets.Dropdown(\n",
    "    options=BIRDS,\n",
    "    value=BIRDS[0],\n",
    "    description=\"Bird\",\n",
    "    disabled=False,\n",
    ")\n",
    "mode_picker = widgets.RadioButtons(\n",
    "    options=[\"by stim\", \"by reward\"],\n",
    "    description='view mode:',\n",
    "    disabled=False\n",
    ")\n",
    "\n",
    "\n",
    "out_plot = widgets.interactive_output(\n",
    "    view_pecking_data, \n",
    "    {\n",
    "        \"date\": date_picker,\n",
    "        \"bird\": bird_picker,\n",
    "        \"mode\": mode_picker\n",
    "    }\n",
    ")\n",
    "out_stim = widgets.interactive_output(\n",
    "    view_stim_data, \n",
    "    {\n",
    "        \"date\": date_picker,\n",
    "        \"bird\": bird_picker,\n",
    "    }\n",
    ")\n",
    "out_stats = widgets.interactive_output(\n",
    "    view_stats, \n",
    "    {\n",
    "        \"date\": date_picker,\n",
    "        \"bird\": bird_picker,\n",
    "    }\n",
    ")\n",
    "\n",
    "widgets.VBox([\n",
    "    out_stats,\n",
    "    widgets.HBox([widgets.VBox([bird_picker, date_picker, mode_picker, out_stim]), out_plot]),\n",
    "])\n"
   ]
  },
  {
   "cell_type": "code",
   "execution_count": null,
   "metadata": {
    "collapsed": true
   },
   "outputs": [],
   "source": []
  },
  {
   "cell_type": "code",
   "execution_count": null,
   "metadata": {
    "collapsed": true
   },
   "outputs": [],
   "source": []
  },
  {
   "cell_type": "code",
   "execution_count": null,
   "metadata": {
    "collapsed": true
   },
   "outputs": [],
   "source": []
  }
 ],
 "metadata": {
  "kernelspec": {
   "display_name": "Python 2",
   "language": "python",
   "name": "python2"
  },
  "language_info": {
   "codemirror_mode": {
    "name": "ipython",
    "version": 2
   },
   "file_extension": ".py",
   "mimetype": "text/x-python",
   "name": "python",
   "nbconvert_exporter": "python",
   "pygments_lexer": "ipython2",
   "version": "2.7.13"
  }
 },
 "nbformat": 4,
 "nbformat_minor": 2
}
